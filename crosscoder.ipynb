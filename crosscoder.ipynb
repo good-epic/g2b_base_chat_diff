{
 "cells": [
  {
   "cell_type": "code",
   "execution_count": 11,
   "id": "dcd91c30",
   "metadata": {
    "lines_to_next_cell": 0
   },
   "outputs": [],
   "source": [
    "from dictionary_learning.dictionary import BatchTopKCrossCoder\n",
    "from tiny_dashboard.dashboard_implementations import CrosscoderOnlineFeatureDashboard\n",
    "from nnsight import LanguageModel\n",
    "import torch as th"
   ]
  },
  {
   "cell_type": "code",
   "execution_count": 12,
   "id": "042877b8",
   "metadata": {},
   "outputs": [],
   "source": [
    "# hugging face login removed for git push"
   ]
  },
  {
   "cell_type": "code",
   "execution_count": 13,
   "id": "2d77e5da",
   "metadata": {
    "lines_to_next_cell": 0
   },
   "outputs": [],
   "source": [
    "import pandas as pd\n",
    "import numpy as np\n",
    "from tqdm import tqdm\n",
    "import matplotlib.pyplot as plt\n"
   ]
  },
  {
   "cell_type": "code",
   "execution_count": 14,
   "id": "58d13d37",
   "metadata": {},
   "outputs": [],
   "source": [
    "crosscoder = BatchTopKCrossCoder.from_pretrained(\"science-of-finetuning/gemma-2-2b-L13-k100-lr1e-04-local-shuffling-CCLoss\", from_hub=True, device=\"cuda\")\n",
    "gemma_2 = LanguageModel(\"google/gemma-2-2b\", device_map=\"cuda\")\n",
    "gemma_2_it = LanguageModel(\"google/gemma-2-2b-it\", device_map=\"cuda\")\n"
   ]
  },
  {
   "cell_type": "code",
   "execution_count": 15,
   "id": "5256d995",
   "metadata": {},
   "outputs": [
    {
     "name": "stderr",
     "output_type": "stream",
     "text": [
      "Processing jokes:   0%|          | 0/500 [00:00<?, ?it/s]You're using a GemmaTokenizerFast tokenizer. Please note that with a fast tokenizer, using the `__call__` method is faster than using a method to encode the text followed by a call to the `pad` method to get a padded encoding.\n"
     ]
    },
    {
     "data": {
      "application/vnd.jupyter.widget-view+json": {
       "model_id": "88fad489b97b4480a61c1075473df0e4",
       "version_major": 2,
       "version_minor": 0
      },
      "text/plain": [
       "Loading checkpoint shards:   0%|          | 0/3 [00:00<?, ?it/s]"
      ]
     },
     "metadata": {},
     "output_type": "display_data"
    },
    {
     "name": "stderr",
     "output_type": "stream",
     "text": [
      "You're using a GemmaTokenizerFast tokenizer. Please note that with a fast tokenizer, using the `__call__` method is faster than using a method to encode the text followed by a call to the `pad` method to get a padded encoding.\n"
     ]
    },
    {
     "data": {
      "application/vnd.jupyter.widget-view+json": {
       "model_id": "60a7bb9968cd4d62bb77832357d0ce5b",
       "version_major": 2,
       "version_minor": 0
      },
      "text/plain": [
       "Loading checkpoint shards:   0%|          | 0/2 [00:00<?, ?it/s]"
      ]
     },
     "metadata": {},
     "output_type": "display_data"
    },
    {
     "name": "stderr",
     "output_type": "stream",
     "text": [
      "Processing jokes:  10%|█         | 51/500 [00:08<00:38, 11.56it/s]"
     ]
    },
    {
     "name": "stdout",
     "output_type": "stream",
     "text": [
      "Processed 50 jokes. Latest non-zero count: 145\n"
     ]
    },
    {
     "name": "stderr",
     "output_type": "stream",
     "text": [
      "Processing jokes:  21%|██        | 103/500 [00:13<00:31, 12.57it/s]"
     ]
    },
    {
     "name": "stdout",
     "output_type": "stream",
     "text": [
      "Processed 100 jokes. Latest non-zero count: 177\n"
     ]
    },
    {
     "name": "stderr",
     "output_type": "stream",
     "text": [
      "Processing jokes:  31%|███       | 153/500 [00:17<00:26, 13.32it/s]"
     ]
    },
    {
     "name": "stdout",
     "output_type": "stream",
     "text": [
      "Processed 150 jokes. Latest non-zero count: 125\n"
     ]
    },
    {
     "name": "stderr",
     "output_type": "stream",
     "text": [
      "Processing jokes:  41%|████      | 203/500 [00:21<00:30,  9.81it/s]"
     ]
    },
    {
     "name": "stdout",
     "output_type": "stream",
     "text": [
      "Processed 200 jokes. Latest non-zero count: 125\n"
     ]
    },
    {
     "name": "stderr",
     "output_type": "stream",
     "text": [
      "Processing jokes:  51%|█████     | 253/500 [00:25<00:18, 13.49it/s]"
     ]
    },
    {
     "name": "stdout",
     "output_type": "stream",
     "text": [
      "Processed 250 jokes. Latest non-zero count: 121\n"
     ]
    },
    {
     "name": "stderr",
     "output_type": "stream",
     "text": [
      "Processing jokes:  61%|██████    | 303/500 [00:29<00:14, 13.18it/s]"
     ]
    },
    {
     "name": "stdout",
     "output_type": "stream",
     "text": [
      "Processed 300 jokes. Latest non-zero count: 146\n"
     ]
    },
    {
     "name": "stderr",
     "output_type": "stream",
     "text": [
      "Processing jokes:  71%|███████   | 353/500 [00:33<00:10, 13.39it/s]"
     ]
    },
    {
     "name": "stdout",
     "output_type": "stream",
     "text": [
      "Processed 350 jokes. Latest non-zero count: 128\n"
     ]
    },
    {
     "name": "stderr",
     "output_type": "stream",
     "text": [
      "Processing jokes:  81%|████████  | 403/500 [00:37<00:07, 13.31it/s]"
     ]
    },
    {
     "name": "stdout",
     "output_type": "stream",
     "text": [
      "Processed 400 jokes. Latest non-zero count: 117\n"
     ]
    },
    {
     "name": "stderr",
     "output_type": "stream",
     "text": [
      "Processing jokes:  91%|█████████ | 453/500 [00:41<00:03, 13.27it/s]"
     ]
    },
    {
     "name": "stdout",
     "output_type": "stream",
     "text": [
      "Processed 450 jokes. Latest non-zero count: 153\n"
     ]
    },
    {
     "name": "stderr",
     "output_type": "stream",
     "text": [
      "Processing jokes: 100%|██████████| 500/500 [00:44<00:00, 11.21it/s]\n"
     ]
    }
   ],
   "source": [
    "# Load the jokes dataset\n",
    "jokes_df = pd.read_csv('shortjokes_500.csv')\n",
    "\n",
    "# Initialize storage for non-zero feature indices\n",
    "non_zero_indices = []\n",
    "\n",
    "# Process each joke\n",
    "for idx, row in tqdm(jokes_df.iterrows(), total=len(jokes_df), desc=\"Processing jokes\"):\n",
    "    joke = row['Joke']  # Get the joke from the 'Joke' column\n",
    "    joke_tokens = gemma_2_it.tokenizer.encode(joke, add_special_tokens=True, return_tensors=\"pt\")\n",
    "    \n",
    "    # Get activations from gemma-2-2b\n",
    "    with gemma_2.trace(joke_tokens):\n",
    "        l13_act_base = gemma_2.model.layers[13].output[0][:, -1].save()  # (1, 2304)\n",
    "        gemma_2.model.layers[13].output.stop()\n",
    "    \n",
    "    # Get activations from gemma-2-2b-it\n",
    "    with gemma_2_it.trace(joke_tokens):\n",
    "        l13_act_it = gemma_2_it.model.layers[13].output[0][:, -1].save()  # (1, 2304)\n",
    "        gemma_2_it.model.layers[13].output.stop()\n",
    "    \n",
    "    # Prepare input for crosscoder\n",
    "    crosscoder_input = th.cat([l13_act_base, l13_act_it], dim=0).unsqueeze(0)  # (batch, 2, 2304)\n",
    "    \n",
    "    # Get reconstruction and features\n",
    "    _, features = crosscoder(crosscoder_input, output_features=True)\n",
    "    \n",
    "    # Find indices of non-zero elements (> 1e-4)\n",
    "    nonzero_mask = features.abs() > 1e-4\n",
    "    nonzero_idx = nonzero_mask.nonzero().cpu().numpy()\n",
    "    \n",
    "    # Store the indices\n",
    "    non_zero_indices.append([int(ni[1]) for ni in nonzero_idx])\n",
    "    \n",
    "    # Optional: Print progress info every 50 jokes\n",
    "    if idx % 50 == 0 and idx > 0:\n",
    "        print(f\"Processed {idx} jokes. Latest non-zero count: {nonzero_mask.sum().item()}\")\n"
   ]
  },
  {
   "cell_type": "code",
   "execution_count": 16,
   "id": "05fca5af",
   "metadata": {},
   "outputs": [
    {
     "name": "stdout",
     "output_type": "stream",
     "text": [
      "Saved non_zero_indices for 500 jokes to saved_data/non_zero_indices.pkl\n",
      "Average non-zero elements per joke: 132.06\n",
      "Min non-zero elements: 78\n",
      "Max non-zero elements: 200\n",
      "Number of unique feature indices activated across all jokes: 9207\n",
      "Percentage of total features used: 12.49%\n"
     ]
    },
    {
     "data": {
      "image/png": "[encoded data removed]",
      "text/plain": [
       "<Figure size 1000x600 with 1 Axes>"
      ]
     },
     "metadata": {},
     "output_type": "display_data"
    }
   ],
   "source": [
    "# Save non_zero_indices to a file for later use\n",
    "import pickle\n",
    "import os\n",
    "\n",
    "# Create a directory for saved data if it doesn't exist\n",
    "os.makedirs('saved_data', exist_ok=True)\n",
    "\n",
    "# Save the non_zero_indices list using pickle\n",
    "with open('non_zero_indices.pkl', 'wb') as f:\n",
    "    pickle.dump(non_zero_indices, f)\n",
    "\n",
    "print(f\"Saved non_zero_indices for {len(non_zero_indices)} jokes to saved_data/non_zero_indices.pkl\")\n",
    "\n",
    "# Example of how to reload the data:\n",
    "# with open('saved_data/non_zero_indices.pkl', 'rb') as f:\n",
    "#     loaded_non_zero_indices = pickle.load(f)\n",
    "\n",
    "\n",
    "\n",
    "# Summary statistics\n",
    "total_nonzero_counts = [len(indices) for indices in non_zero_indices]\n",
    "print(f\"Average non-zero elements per joke: {np.mean(total_nonzero_counts):.2f}\")\n",
    "print(f\"Min non-zero elements: {np.min(total_nonzero_counts)}\")\n",
    "print(f\"Max non-zero elements: {np.max(total_nonzero_counts)}\")\n",
    "# Flatten all non-zero indices and count unique ones\n",
    "all_indices = []\n",
    "for indices in non_zero_indices:\n",
    "    all_indices.extend(indices)\n",
    "unique_indices = np.unique(all_indices)\n",
    "print(f\"Number of unique feature indices activated across all jokes: {len(unique_indices)}\")\n",
    "print(f\"Percentage of total features used: {len(unique_indices) / features.shape[1] * 100:.2f}%\")\n",
    "\n",
    "\n",
    "\n",
    "# Create a histogram of non-zero feature counts\n",
    "plt.figure(figsize=(10, 6))\n",
    "plt.hist(total_nonzero_counts, bins=30, color='skyblue', edgecolor='black')\n",
    "plt.title('Distribution of Non-Zero Features per Joke')\n",
    "plt.xlabel('Number of Non-Zero Features')\n",
    "plt.ylabel('Frequency')\n",
    "plt.grid(axis='y', alpha=0.75)\n",
    "\n",
    "# Add mean line\n",
    "mean_count = np.mean(total_nonzero_counts)\n",
    "plt.axvline(mean_count, color='red', linestyle='dashed', linewidth=1, \n",
    "            label=f'Mean: {mean_count:.2f}')\n",
    "\n",
    "plt.legend()\n",
    "plt.tight_layout()\n",
    "plt.show()\n",
    "\n",
    "\n"
   ]
  },
  {
   "cell_type": "code",
   "execution_count": 19,
   "id": "35abb365",
   "metadata": {},
   "outputs": [
    {
     "name": "stdout",
     "output_type": "stream",
     "text": [
      "Number of features appearing in more than 5 jokes: 2269\n",
      "Percentage of features appearing in more than 5 jokes: 24.64%\n"
     ]
    },
    {
     "data": {
      "image/png": "[encoded data removed]",
      "text/plain": [
       "<Figure size 1000x600 with 1 Axes>"
      ]
     },
     "metadata": {},
     "output_type": "display_data"
    },
    {
     "name": "stdout",
     "output_type": "stream",
     "text": [
      "Total unique features found: 9207\n",
      "Average number of jokes per feature: 7.17\n",
      "Max number of jokes a feature appears in: 500\n"
     ]
    }
   ],
   "source": [
    "# Count how many jokes each feature appears in\n",
    "feature_counts = {}\n",
    "for joke_indices in non_zero_indices:\n",
    "    for idx_val in joke_indices:\n",
    "        if idx_val in feature_counts:\n",
    "            feature_counts[idx_val] += 1\n",
    "        else:\n",
    "            feature_counts[idx_val] = 1\n",
    "\n",
    "# Extract the counts for plotting\n",
    "feature_occurrences = list(feature_counts.values())\n",
    "# Filter features that appear in more than 5 jokes\n",
    "filtered_feature_occurrences = [count for count in feature_occurrences if count > 5]\n",
    "print(f\"Number of features appearing in more than 5 jokes: {len(filtered_feature_occurrences)}\")\n",
    "print(f\"Percentage of features appearing in more than 5 jokes: {len(filtered_feature_occurrences) / len(feature_occurrences) * 100:.2f}%\")\n",
    "\n",
    "# Create a histogram of feature occurrences\n",
    "plt.figure(figsize=(10, 6))\n",
    "plt.hist(filtered_feature_occurrences, bins=30, color='lightgreen', edgecolor='black')\n",
    "plt.title('Distribution of Feature Occurrences Across Jokes')\n",
    "plt.xlabel('Number of Jokes a Feature Appears In')\n",
    "plt.ylabel('Frequency (Number of Features)')\n",
    "plt.grid(axis='y', alpha=0.75)\n",
    "\n",
    "# Add mean line\n",
    "mean_occurrence = np.mean(feature_occurrences)\n",
    "plt.axvline(mean_occurrence, color='red', linestyle='dashed', linewidth=1, \n",
    "            label=f'Mean: {mean_occurrence:.2f}')\n",
    "\n",
    "plt.legend()\n",
    "plt.tight_layout()\n",
    "plt.show()\n",
    "\n",
    "print(f\"Total unique features found: {len(feature_counts)}\")\n",
    "print(f\"Average number of jokes per feature: {mean_occurrence:.2f}\")\n",
    "print(f\"Max number of jokes a feature appears in: {max(feature_occurrences)}\")\n"
   ]
  },
  {
   "cell_type": "code",
   "execution_count": 20,
   "id": "4ac0e16e",
   "metadata": {},
   "outputs": [
    {
     "name": "stdout",
     "output_type": "stream",
     "text": [
      "Top 10 features that appear in the most jokes:\n",
      "--------------------------------------------------\n",
      "Rank  Feature ID  Occurrence Count    \n",
      "--------------------------------------------------\n",
      "1     69252       500                 \n",
      "2     56694       489                 \n",
      "3     43830       472                 \n",
      "4     67792       457                 \n",
      "5     71786       450                 \n",
      "6     13469       439                 \n",
      "7     23353       401                 \n",
      "8     69922       399                 \n",
      "9     23624       384                 \n",
      "10    23547       360                 \n",
      "--------------------------------------------------\n"
     ]
    }
   ],
   "source": [
    "# Find the features that appear in the most jokes\n",
    "sorted_features = sorted(feature_counts.items(), key=lambda x: x[1], reverse=True)\n",
    "\n",
    "# Display the top 10 most common features in a table format\n",
    "print(\"Top 10 features that appear in the most jokes:\")\n",
    "print(\"-\" * 50)\n",
    "print(f\"{'Rank':<6}{'Feature ID':<12}{'Occurrence Count':<20}\")\n",
    "print(\"-\" * 50)\n",
    "for i, (feature_idx, count) in enumerate(sorted_features[:10]):\n",
    "    print(f\"{i+1:<6}{feature_idx:<12}{count:<20}\")\n",
    "print(\"-\" * 50)\n",
    "\n",
    "# Create a dictionary of the top features for easier reference\n",
    "top_features = dict(sorted_features[:10])\n"
   ]
  },
  {
   "cell_type": "code",
   "execution_count": 21,
   "id": "6ebd1c1c",
   "metadata": {},
   "outputs": [
    {
     "data": {
      "application/vnd.jupyter.widget-view+json": {
       "model_id": "7152bf8c145443e2b0a41ec25d8a2d7e",
       "version_major": 2,
       "version_minor": 0
      },
      "text/plain": [
       "VBox(children=(HBox(children=(Text(value='', continuous_update=False, description='Feature:', placeholder='Typ…"
      ]
     },
     "metadata": {},
     "output_type": "display_data"
    },
    {
     "data": {
      "text/plain": [
       "<tiny_dashboard.feature_centric_dashboards.OfflineFeatureCentricDashboard at 0xfa3442aeb610>"
      ]
     },
     "execution_count": 21,
     "metadata": {},
     "output_type": "execute_result"
    }
   ],
   "source": [
    "from util import offline_dashboard\n",
    "crosscoder_name = \"gemma-2-2b-L13-k100-lr1e-04-local-shuffling-CCLoss\"\n",
    "offline_dashboard(crosscoder_name, max_example_per_quantile=10)"
   ]
  },
  {
   "cell_type": "code",
   "execution_count": 22,
   "id": "3c27c1da",
   "metadata": {},
   "outputs": [
    {
     "name": "stdout",
     "output_type": "stream",
     "text": [
      "First joke in the dataset:\n",
      "If I could have dinner with anyone, dead or alive... ...I would choose alive. -B.J. Novak-\n"
     ]
    },
    {
     "data": {
      "application/vnd.jupyter.widget-view+json": {
       "model_id": "424a4e206fac46f6a7c17d24300135d0",
       "version_major": 2,
       "version_minor": 0
      },
      "text/plain": [
       "VBox(children=(Textarea(value='', description='Text:', layout=Layout(height='auto', width='100%'), placeholder…"
      ]
     },
     "metadata": {},
     "output_type": "display_data"
    }
   ],
   "source": [
    "from tiny_dashboard.dashboard_implementations import CrosscoderOnlineFeatureDashboard\n",
    "\n",
    "# Print the first joke from jokes_df\n",
    "print(\"First joke in the dataset:\")\n",
    "print(jokes_df.iloc[3]['Joke'])\n",
    "\n",
    "\n",
    "CrosscoderOnlineFeatureDashboard(\n",
    "    gemma_2,\n",
    "    gemma_2_it,\n",
    "    crosscoder,\n",
    "    13,\n",
    "    crosscoder_device=\"cuda\",\n",
    ").display()\n"
   ]
  },
  {
   "cell_type": "code",
   "execution_count": 23,
   "id": "321bd8e5",
   "metadata": {},
   "outputs": [
    {
     "name": "stdout",
     "output_type": "stream",
     "text": [
      "torch.Size([24, 73728])\n",
      "\n",
      "Top 5 features for each token:\n"
     ]
    },
    {
     "data": {
      "text/html": [
       "<table>\n",
       "<thead>\n",
       "<tr><th>Token Index  </th><th>Token   </th><th style=\"text-align: right;\">  Feature Index</th><th style=\"text-align: right;\">  Activation</th></tr>\n",
       "</thead>\n",
       "<tbody>\n",
       "<tr><td>0            </td><td>&lt;bos&gt;   </td><td style=\"text-align: right;\">          69252</td><td style=\"text-align: right;\">   1261.84  </td></tr>\n",
       "<tr><td>             </td><td>        </td><td style=\"text-align: right;\">          43830</td><td style=\"text-align: right;\">   1090.2   </td></tr>\n",
       "<tr><td>             </td><td>        </td><td style=\"text-align: right;\">          41222</td><td style=\"text-align: right;\">    551.618 </td></tr>\n",
       "<tr><td>             </td><td>        </td><td style=\"text-align: right;\">          23624</td><td style=\"text-align: right;\">    534.977 </td></tr>\n",
       "<tr><td>             </td><td>        </td><td style=\"text-align: right;\">          43813</td><td style=\"text-align: right;\">    485.5   </td></tr>\n",
       "<tr><td>1            </td><td>I       </td><td style=\"text-align: right;\">          69252</td><td style=\"text-align: right;\">    194.253 </td></tr>\n",
       "<tr><td>             </td><td>        </td><td style=\"text-align: right;\">          25866</td><td style=\"text-align: right;\">    190.939 </td></tr>\n",
       "<tr><td>             </td><td>        </td><td style=\"text-align: right;\">          41222</td><td style=\"text-align: right;\">    175.902 </td></tr>\n",
       "<tr><td>             </td><td>        </td><td style=\"text-align: right;\">          46260</td><td style=\"text-align: right;\">    156.462 </td></tr>\n",
       "<tr><td>             </td><td>        </td><td style=\"text-align: right;\">          22551</td><td style=\"text-align: right;\">    151.618 </td></tr>\n",
       "<tr><td>2            </td><td>saw     </td><td style=\"text-align: right;\">           9001</td><td style=\"text-align: right;\">     88.9804</td></tr>\n",
       "<tr><td>             </td><td>        </td><td style=\"text-align: right;\">          35842</td><td style=\"text-align: right;\">     66.2552</td></tr>\n",
       "<tr><td>             </td><td>        </td><td style=\"text-align: right;\">          43830</td><td style=\"text-align: right;\">     60.6732</td></tr>\n",
       "<tr><td>             </td><td>        </td><td style=\"text-align: right;\">          21240</td><td style=\"text-align: right;\">     57.4911</td></tr>\n",
       "<tr><td>             </td><td>        </td><td style=\"text-align: right;\">          69922</td><td style=\"text-align: right;\">     54.5211</td></tr>\n",
       "<tr><td>3            </td><td>a       </td><td style=\"text-align: right;\">          43999</td><td style=\"text-align: right;\">    106.811 </td></tr>\n",
       "<tr><td>             </td><td>        </td><td style=\"text-align: right;\">          56694</td><td style=\"text-align: right;\">     60.7945</td></tr>\n",
       "<tr><td>             </td><td>        </td><td style=\"text-align: right;\">          43830</td><td style=\"text-align: right;\">     53.4547</td></tr>\n",
       "<tr><td>             </td><td>        </td><td style=\"text-align: right;\">          69922</td><td style=\"text-align: right;\">     52.1214</td></tr>\n",
       "<tr><td>             </td><td>        </td><td style=\"text-align: right;\">          21240</td><td style=\"text-align: right;\">     50.9971</td></tr>\n",
       "<tr><td>4            </td><td>sign    </td><td style=\"text-align: right;\">          62369</td><td style=\"text-align: right;\">    107.161 </td></tr>\n",
       "<tr><td>             </td><td>        </td><td style=\"text-align: right;\">          43830</td><td style=\"text-align: right;\">     79.4475</td></tr>\n",
       "<tr><td>             </td><td>        </td><td style=\"text-align: right;\">          69252</td><td style=\"text-align: right;\">     77.9776</td></tr>\n",
       "<tr><td>             </td><td>        </td><td style=\"text-align: right;\">          10318</td><td style=\"text-align: right;\">     70.9863</td></tr>\n",
       "<tr><td>             </td><td>        </td><td style=\"text-align: right;\">          57319</td><td style=\"text-align: right;\">     65.3687</td></tr>\n",
       "<tr><td>5            </td><td>that    </td><td style=\"text-align: right;\">          59233</td><td style=\"text-align: right;\">    104.458 </td></tr>\n",
       "<tr><td>             </td><td>        </td><td style=\"text-align: right;\">          56694</td><td style=\"text-align: right;\">     81.2334</td></tr>\n",
       "<tr><td>             </td><td>        </td><td style=\"text-align: right;\">          43830</td><td style=\"text-align: right;\">     66.3929</td></tr>\n",
       "<tr><td>             </td><td>        </td><td style=\"text-align: right;\">          45274</td><td style=\"text-align: right;\">     45.4701</td></tr>\n",
       "<tr><td>             </td><td>        </td><td style=\"text-align: right;\">          69922</td><td style=\"text-align: right;\">     40.4957</td></tr>\n",
       "<tr><td>6            </td><td>said    </td><td style=\"text-align: right;\">          43830</td><td style=\"text-align: right;\">     89.9418</td></tr>\n",
       "<tr><td>             </td><td>        </td><td style=\"text-align: right;\">          45274</td><td style=\"text-align: right;\">     84.7625</td></tr>\n",
       "<tr><td>             </td><td>        </td><td style=\"text-align: right;\">           6953</td><td style=\"text-align: right;\">     65.7718</td></tr>\n",
       "<tr><td>             </td><td>        </td><td style=\"text-align: right;\">          56694</td><td style=\"text-align: right;\">     54.972 </td></tr>\n",
       "<tr><td>             </td><td>        </td><td style=\"text-align: right;\">          10318</td><td style=\"text-align: right;\">     54.5035</td></tr>\n",
       "<tr><td>7            </td><td>&quot;       </td><td style=\"text-align: right;\">          38369</td><td style=\"text-align: right;\">    112.557 </td></tr>\n",
       "<tr><td>             </td><td>        </td><td style=\"text-align: right;\">          45274</td><td style=\"text-align: right;\">     59.5139</td></tr>\n",
       "<tr><td>             </td><td>        </td><td style=\"text-align: right;\">          43830</td><td style=\"text-align: right;\">     53.9821</td></tr>\n",
       "<tr><td>             </td><td>        </td><td style=\"text-align: right;\">          56694</td><td style=\"text-align: right;\">     47.3442</td></tr>\n",
       "<tr><td>             </td><td>        </td><td style=\"text-align: right;\">          29827</td><td style=\"text-align: right;\">     39.2421</td></tr>\n",
       "<tr><td>8            </td><td>watch   </td><td style=\"text-align: right;\">          25055</td><td style=\"text-align: right;\">    102.98  </td></tr>\n",
       "<tr><td>             </td><td>        </td><td style=\"text-align: right;\">          56694</td><td style=\"text-align: right;\">     80.3806</td></tr>\n",
       "<tr><td>             </td><td>        </td><td style=\"text-align: right;\">          13469</td><td style=\"text-align: right;\">     66.3479</td></tr>\n",
       "<tr><td>             </td><td>        </td><td style=\"text-align: right;\">          67792</td><td style=\"text-align: right;\">     34.3596</td></tr>\n",
       "<tr><td>             </td><td>        </td><td style=\"text-align: right;\">          71030</td><td style=\"text-align: right;\">     26.6867</td></tr>\n",
       "<tr><td>9            </td><td>for     </td><td style=\"text-align: right;\">          56694</td><td style=\"text-align: right;\">     77.9927</td></tr>\n",
       "<tr><td>             </td><td>        </td><td style=\"text-align: right;\">           8691</td><td style=\"text-align: right;\">     63.0834</td></tr>\n",
       "<tr><td>             </td><td>        </td><td style=\"text-align: right;\">          60581</td><td style=\"text-align: right;\">     60.5601</td></tr>\n",
       "<tr><td>             </td><td>        </td><td style=\"text-align: right;\">          69252</td><td style=\"text-align: right;\">     50.1145</td></tr>\n",
       "<tr><td>             </td><td>        </td><td style=\"text-align: right;\">          70246</td><td style=\"text-align: right;\">     40.8481</td></tr>\n",
       "<tr><td>10           </td><td>children</td><td style=\"text-align: right;\">          19488</td><td style=\"text-align: right;\">     95.6138</td></tr>\n",
       "<tr><td>             </td><td>        </td><td style=\"text-align: right;\">          69252</td><td style=\"text-align: right;\">     76.2142</td></tr>\n",
       "<tr><td>             </td><td>        </td><td style=\"text-align: right;\">          60581</td><td style=\"text-align: right;\">     70.5534</td></tr>\n",
       "<tr><td>             </td><td>        </td><td style=\"text-align: right;\">          67792</td><td style=\"text-align: right;\">     66.9154</td></tr>\n",
       "<tr><td>             </td><td>        </td><td style=\"text-align: right;\">          56694</td><td style=\"text-align: right;\">     53.1606</td></tr>\n",
       "<tr><td>11           </td><td>&quot;       </td><td style=\"text-align: right;\">          43830</td><td style=\"text-align: right;\">     87.5005</td></tr>\n",
       "<tr><td>             </td><td>        </td><td style=\"text-align: right;\">          58568</td><td style=\"text-align: right;\">     81.5027</td></tr>\n",
       "<tr><td>             </td><td>        </td><td style=\"text-align: right;\">          69252</td><td style=\"text-align: right;\">     77.1238</td></tr>\n",
       "<tr><td>             </td><td>        </td><td style=\"text-align: right;\">          56694</td><td style=\"text-align: right;\">     50.2394</td></tr>\n",
       "<tr><td>             </td><td>        </td><td style=\"text-align: right;\">          45274</td><td style=\"text-align: right;\">     48.6205</td></tr>\n",
       "<tr><td>12           </td><td>and     </td><td style=\"text-align: right;\">           8689</td><td style=\"text-align: right;\">    104.099 </td></tr>\n",
       "<tr><td>             </td><td>        </td><td style=\"text-align: right;\">          43830</td><td style=\"text-align: right;\">     95.5695</td></tr>\n",
       "<tr><td>             </td><td>        </td><td style=\"text-align: right;\">          56694</td><td style=\"text-align: right;\">     57.3241</td></tr>\n",
       "<tr><td>             </td><td>        </td><td style=\"text-align: right;\">          69252</td><td style=\"text-align: right;\">     44.0725</td></tr>\n",
       "<tr><td>             </td><td>        </td><td style=\"text-align: right;\">          69922</td><td style=\"text-align: right;\">     35.3419</td></tr>\n",
       "<tr><td>13           </td><td>I       </td><td style=\"text-align: right;\">          43830</td><td style=\"text-align: right;\">     71.5701</td></tr>\n",
       "<tr><td>             </td><td>        </td><td style=\"text-align: right;\">          18130</td><td style=\"text-align: right;\">     68.5367</td></tr>\n",
       "<tr><td>             </td><td>        </td><td style=\"text-align: right;\">          56694</td><td style=\"text-align: right;\">     63.9439</td></tr>\n",
       "<tr><td>             </td><td>        </td><td style=\"text-align: right;\">          31761</td><td style=\"text-align: right;\">     47.6499</td></tr>\n",
       "<tr><td>             </td><td>        </td><td style=\"text-align: right;\">          10311</td><td style=\"text-align: right;\">     40.7236</td></tr>\n",
       "<tr><td>14           </td><td>thought </td><td style=\"text-align: right;\">          55429</td><td style=\"text-align: right;\">     79.2669</td></tr>\n",
       "<tr><td>             </td><td>        </td><td style=\"text-align: right;\">           2539</td><td style=\"text-align: right;\">     73.6254</td></tr>\n",
       "<tr><td>             </td><td>        </td><td style=\"text-align: right;\">          56694</td><td style=\"text-align: right;\">     70.9389</td></tr>\n",
       "<tr><td>             </td><td>        </td><td style=\"text-align: right;\">          43830</td><td style=\"text-align: right;\">     66.3693</td></tr>\n",
       "<tr><td>             </td><td>        </td><td style=\"text-align: right;\">          19981</td><td style=\"text-align: right;\">     45.175 </td></tr>\n",
       "<tr><td>15           </td><td>,       </td><td style=\"text-align: right;\">          56694</td><td style=\"text-align: right;\">     79.4676</td></tr>\n",
       "<tr><td>             </td><td>        </td><td style=\"text-align: right;\">           5035</td><td style=\"text-align: right;\">     61.852 </td></tr>\n",
       "<tr><td>             </td><td>        </td><td style=\"text-align: right;\">          43830</td><td style=\"text-align: right;\">     57.9772</td></tr>\n",
       "<tr><td>             </td><td>        </td><td style=\"text-align: right;\">           4713</td><td style=\"text-align: right;\">     56.7528</td></tr>\n",
       "<tr><td>             </td><td>        </td><td style=\"text-align: right;\">           2629</td><td style=\"text-align: right;\">     53.4508</td></tr>\n",
       "<tr><td>16           </td><td>&quot;       </td><td style=\"text-align: right;\">          38369</td><td style=\"text-align: right;\">    107.235 </td></tr>\n",
       "<tr><td>             </td><td>        </td><td style=\"text-align: right;\">          56694</td><td style=\"text-align: right;\">     85.297 </td></tr>\n",
       "<tr><td>             </td><td>        </td><td style=\"text-align: right;\">          29827</td><td style=\"text-align: right;\">     81.9478</td></tr>\n",
       "<tr><td>             </td><td>        </td><td style=\"text-align: right;\">           2629</td><td style=\"text-align: right;\">     69.5899</td></tr>\n",
       "<tr><td>             </td><td>        </td><td style=\"text-align: right;\">          69252</td><td style=\"text-align: right;\">     58.8721</td></tr>\n",
       "<tr><td>17           </td><td>That    </td><td style=\"text-align: right;\">          56694</td><td style=\"text-align: right;\">     84.1552</td></tr>\n",
       "<tr><td>             </td><td>        </td><td style=\"text-align: right;\">          62612</td><td style=\"text-align: right;\">     75.4833</td></tr>\n",
       "<tr><td>             </td><td>        </td><td style=\"text-align: right;\">          59233</td><td style=\"text-align: right;\">     57.1904</td></tr>\n",
       "<tr><td>             </td><td>        </td><td style=\"text-align: right;\">          30400</td><td style=\"text-align: right;\">     40.6878</td></tr>\n",
       "<tr><td>             </td><td>        </td><td style=\"text-align: right;\">          43830</td><td style=\"text-align: right;\">     38.8611</td></tr>\n",
       "<tr><td>18           </td><td>sounds  </td><td style=\"text-align: right;\">          56694</td><td style=\"text-align: right;\">     84.6322</td></tr>\n",
       "<tr><td>             </td><td>        </td><td style=\"text-align: right;\">          73457</td><td style=\"text-align: right;\">     74.0066</td></tr>\n",
       "<tr><td>             </td><td>        </td><td style=\"text-align: right;\">          63576</td><td style=\"text-align: right;\">     59.6964</td></tr>\n",
       "<tr><td>             </td><td>        </td><td style=\"text-align: right;\">          69252</td><td style=\"text-align: right;\">     48.5465</td></tr>\n",
       "<tr><td>             </td><td>        </td><td style=\"text-align: right;\">          10393</td><td style=\"text-align: right;\">     46.1964</td></tr>\n",
       "<tr><td>19           </td><td>like    </td><td style=\"text-align: right;\">          54787</td><td style=\"text-align: right;\">     87.5872</td></tr>\n",
       "<tr><td>             </td><td>        </td><td style=\"text-align: right;\">          56694</td><td style=\"text-align: right;\">     82.5072</td></tr>\n",
       "<tr><td>             </td><td>        </td><td style=\"text-align: right;\">          57819</td><td style=\"text-align: right;\">     54.1521</td></tr>\n",
       "<tr><td>             </td><td>        </td><td style=\"text-align: right;\">          10393</td><td style=\"text-align: right;\">     46.2089</td></tr>\n",
       "<tr><td>             </td><td>        </td><td style=\"text-align: right;\">          71786</td><td style=\"text-align: right;\">     42.3782</td></tr>\n",
       "<tr><td>20           </td><td>a       </td><td style=\"text-align: right;\">          43999</td><td style=\"text-align: right;\">    103.696 </td></tr>\n",
       "<tr><td>             </td><td>        </td><td style=\"text-align: right;\">          56694</td><td style=\"text-align: right;\">     65.9207</td></tr>\n",
       "<tr><td>             </td><td>        </td><td style=\"text-align: right;\">          10393</td><td style=\"text-align: right;\">     41.4744</td></tr>\n",
       "<tr><td>             </td><td>        </td><td style=\"text-align: right;\">          71786</td><td style=\"text-align: right;\">     33.1443</td></tr>\n",
       "<tr><td>             </td><td>        </td><td style=\"text-align: right;\">          23353</td><td style=\"text-align: right;\">     31.3247</td></tr>\n",
       "<tr><td>21           </td><td>fair    </td><td style=\"text-align: right;\">          49501</td><td style=\"text-align: right;\">    104.496 </td></tr>\n",
       "<tr><td>             </td><td>        </td><td style=\"text-align: right;\">          56694</td><td style=\"text-align: right;\">    102.406 </td></tr>\n",
       "<tr><td>             </td><td>        </td><td style=\"text-align: right;\">          13469</td><td style=\"text-align: right;\">     62.3467</td></tr>\n",
       "<tr><td>             </td><td>        </td><td style=\"text-align: right;\">          57901</td><td style=\"text-align: right;\">     38.3672</td></tr>\n",
       "<tr><td>             </td><td>        </td><td style=\"text-align: right;\">          12557</td><td style=\"text-align: right;\">     32.0532</td></tr>\n",
       "<tr><td>22           </td><td>trade   </td><td style=\"text-align: right;\">          30803</td><td style=\"text-align: right;\">     76.922 </td></tr>\n",
       "<tr><td>             </td><td>        </td><td style=\"text-align: right;\">          13469</td><td style=\"text-align: right;\">     73.5495</td></tr>\n",
       "<tr><td>             </td><td>        </td><td style=\"text-align: right;\">          56694</td><td style=\"text-align: right;\">     59.1263</td></tr>\n",
       "<tr><td>             </td><td>        </td><td style=\"text-align: right;\">          29930</td><td style=\"text-align: right;\">     43.5593</td></tr>\n",
       "<tr><td>             </td><td>        </td><td style=\"text-align: right;\">          69252</td><td style=\"text-align: right;\">     37.2148</td></tr>\n",
       "<tr><td>23           </td><td>&quot;       </td><td style=\"text-align: right;\">          58568</td><td style=\"text-align: right;\">     70.6075</td></tr>\n",
       "<tr><td>             </td><td>        </td><td style=\"text-align: right;\">          69252</td><td style=\"text-align: right;\">     69.7113</td></tr>\n",
       "<tr><td>             </td><td>        </td><td style=\"text-align: right;\">          43830</td><td style=\"text-align: right;\">     58.4289</td></tr>\n",
       "<tr><td>             </td><td>        </td><td style=\"text-align: right;\">          56694</td><td style=\"text-align: right;\">     47.5578</td></tr>\n",
       "<tr><td>             </td><td>        </td><td style=\"text-align: right;\">          23353</td><td style=\"text-align: right;\">     32.3047</td></tr>\n",
       "</tbody>\n",
       "</table>"
      ],
      "text/plain": [
       "<IPython.core.display.HTML object>"
      ]
     },
     "metadata": {},
     "output_type": "display_data"
    }
   ],
   "source": [
    "def activations_all_tokens(tokens):\n",
    "# Get activations from gemma-2-2b\n",
    "    with gemma_2.trace(tokens):\n",
    "        l13_act_base = gemma_2.model.layers[13].output[0][0].save()  # (seq, 2304)\n",
    "        gemma_2.model.layers[13].output.stop()\n",
    "\n",
    "    # Get activations from gemma-2-2b-it\n",
    "    with gemma_2_it.trace(tokens):\n",
    "        l13_act_it = gemma_2_it.model.layers[13].output[0][0].save()  # (seq, 2304)\n",
    "        gemma_2_it.model.layers[13].output.stop()\n",
    "\n",
    "    # Prepare input for crosscoder\n",
    "    crosscoder_input = th.stack([l13_act_base, l13_act_it], dim=1)  # (seq, 2, 2304)\n",
    "\n",
    "    # Get reconstruction and features\n",
    "    _, features = crosscoder(crosscoder_input, output_features=True)\n",
    "\n",
    "    return features\n",
    "\n",
    "tokens = gemma_2_it.tokenizer.encode(\"I saw a sign that said \\\"watch for children\\\" and I thought, \\\"That sounds like a fair trade\\\"\", add_special_tokens=True, return_tensors=\"pt\")\n",
    "features = activations_all_tokens(tokens)\n",
    "print(features.shape)\n",
    "\n",
    "def get_top_k_features(features, k=10):\n",
    "    \"\"\"\n",
    "    Get the top k nonzero feature indices and their activation levels for each token.\n",
    "    \n",
    "    Args:\n",
    "        features: Tensor of shape (seq_len, num_features)\n",
    "        k: Number of top features to return per token\n",
    "        \n",
    "    Returns:\n",
    "        List of tuples (token_idx, [(feature_idx, activation_value), ...])\n",
    "    \"\"\"\n",
    "    results = []\n",
    "    \n",
    "    # Iterate through each token\n",
    "    for token_idx in range(features.shape[0]):\n",
    "        token_features = features[token_idx]\n",
    "        \n",
    "        # Get nonzero features\n",
    "        nonzero_mask = token_features != 0\n",
    "        nonzero_indices = th.nonzero(nonzero_mask, as_tuple=True)[0]\n",
    "        nonzero_values = token_features[nonzero_mask]\n",
    "        \n",
    "        # If there are nonzero features, get the top k by magnitude\n",
    "        if len(nonzero_indices) > 0:\n",
    "            # Get absolute values for sorting by magnitude\n",
    "            abs_values = th.abs(nonzero_values)\n",
    "            \n",
    "            # Get indices of top k values\n",
    "            if len(nonzero_indices) > k:\n",
    "                top_k_indices = th.topk(abs_values, k).indices\n",
    "            else:\n",
    "                top_k_indices = th.arange(len(nonzero_indices))\n",
    "            \n",
    "            # Get the actual feature indices and values\n",
    "            top_features = [(nonzero_indices[i].item(), nonzero_values[i].item()) \n",
    "                           for i in top_k_indices]\n",
    "            \n",
    "            results.append((token_idx, top_features))\n",
    "        else:\n",
    "            results.append((token_idx, []))\n",
    "    \n",
    "    return results\n",
    "\n",
    "# Example usage with the features from \"Hello, how are you?\"\n",
    "top_features = get_top_k_features(features, k=5)\n",
    "\n",
    "# Display the results as a table using tabulate in the notebook\n",
    "from tabulate import tabulate\n",
    "from IPython.display import display, HTML\n",
    "\n",
    "print(\"\\nTop 5 features for each token:\")\n",
    "table_data = []\n",
    "\n",
    "for token_idx, feature_list in top_features:\n",
    "    token = gemma_2_it.tokenizer.decode([tokens[0, token_idx]])\n",
    "    if not feature_list:\n",
    "        table_data.append([token_idx, token, \"No features\", \"\"])\n",
    "    else:\n",
    "        for i, (feature_idx, activation) in enumerate(feature_list):\n",
    "            if i == 0:\n",
    "                table_data.append([token_idx, token, feature_idx, f\"{activation:.4f}\"])\n",
    "            else:\n",
    "                table_data.append([\"\", \"\", feature_idx, f\"{activation:.4f}\"])\n",
    "\n",
    "html_table = tabulate(table_data, headers=[\"Token Index\", \"Token\", \"Feature Index\", \"Activation\"], tablefmt=\"html\")\n",
    "display(HTML(html_table))\n"
   ]
  }
 ],
 "metadata": {
  "jupytext": {
   "cell_metadata_filter": "-all",
   "main_language": "python",
   "notebook_metadata_filter": "-all"
  },
  "kernelspec": {
   "display_name": "g2b",
   "language": "python",
   "name": "python3"
  },
  "language_info": {
   "codemirror_mode": {
    "name": "ipython",
    "version": 3
   },
   "file_extension": ".py",
   "mimetype": "text/x-python",
   "name": "python",
   "nbconvert_exporter": "python",
   "pygments_lexer": "ipython3",
   "version": "3.10.12"
  }
 },
 "nbformat": 4,
 "nbformat_minor": 5
}
