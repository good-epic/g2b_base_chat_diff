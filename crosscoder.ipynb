{
 "cells": [
  {
   "cell_type": "code",
   "execution_count": null,
   "id": "dcd91c30",
   "metadata": {
    "lines_to_next_cell": 0
   },
   "outputs": [],
   "source": [
    "from dictionary_learning import CrossCoder\n",
    "from nnsight import LanguageModel\n",
    "import torch as th"
   ]
  },
  {
   "cell_type": "code",
   "execution_count": null,
   "id": "2d77e5da",
   "metadata": {
    "lines_to_next_cell": 0
   },
   "outputs": [],
   "source": [
    "\n",
    "crosscoder = CrossCoder.from_pretrained(\"Butanium/gemma-2-2b-crosscoder-l13-mu4.1e-02-lr1e-04\", from_hub=True)\n",
    "gemma_2 = LanguageModel(\"google/gemma-2-2b\", device_map=\"cuda\")\n",
    "gemma_2_it = LanguageModel(\"google/gemma-2-2b-it\", device_map=\"cuda\")\n",
    "prompt = \"quick fox brown\"\n",
    "\n",
    "with gemma_2.trace(prompt):\n",
    "    l13_act_base = gemma_2.model.layers[13].output[0][:, -1].save() # (1, 2304)\n",
    "    gemma_2.model.layers[13].output.stop()\n",
    "\n",
    "with gemma_2_it.trace(prompt):\n",
    "    l13_act_it = gemma_2_it.model.layers[13].output[0][:, -1].save() # (1, 2304)\n",
    "    gemma_2_it.model.layers[13].output.stop()\n",
    "\n",
    "\n",
    "crosscoder_input = th.cat([l13_act_base, l13_act_it], dim=0).unsqueeze(0).cpu() # (batch, 2, 2304)\n",
    "print(crosscoder_input.shape)\n",
    "reconstruction, features = crosscoder(crosscoder_input, output_features=True)\n",
    "print(crosscoder)\n",
    "# print metrics\n",
    "print(f\"MSE loss: {th.nn.functional.mse_loss(reconstruction, crosscoder_input).item():.2f}\")\n",
    "print(f\"L1 sparsity: {features.abs().sum():.1f}\")\n",
    "print(f\"L0 sparsity: {(features > 1e-4).sum()}\")"
   ]
  },
  {
   "cell_type": "code",
   "execution_count": null,
   "id": "35abb365",
   "metadata": {},
   "outputs": [],
   "source": []
  }
 ],
 "metadata": {
  "jupytext": {
   "cell_metadata_filter": "-all",
   "main_language": "python",
   "notebook_metadata_filter": "-all"
  },
  "language_info": {
   "name": "python"
  }
 },
 "nbformat": 4,
 "nbformat_minor": 5
}
